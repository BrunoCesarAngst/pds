{
 "cells": [
  {
   "cell_type": "code",
   "execution_count": 1,
   "metadata": {},
   "outputs": [
    {
     "data": {
      "text/plain": [
       "1656031606477"
      ]
     },
     "execution_count": 1,
     "metadata": {},
     "output_type": "execute_result"
    }
   ],
   "source": [
    "criado = new Date().getTime()"
   ]
  },
  {
   "cell_type": "code",
   "execution_count": 2,
   "metadata": {},
   "outputs": [],
   "source": [
    "let data = {\n",
    "  validade: new Date().getTime(),\n",
    "  status: true|false\n",
    "}"
   ]
  },
  {
   "cell_type": "code",
   "execution_count": 3,
   "metadata": {},
   "outputs": [],
   "source": [
    "const local = {\n",
    "  rua: 'rua',\n",
    "  casa: 'casa',\n",
    "  trabalho: 'trabalho',\n",
    "  qualquarLugar: 'qualquarLugar'\n",
    "}"
   ]
  },
  {
   "cell_type": "code",
   "execution_count": 4,
   "metadata": {},
   "outputs": [],
   "source": [
    "const interacao = {\n",
    "  nome: 'nome',\n",
    "  detalhes: 'qualquer info relevante'\n",
    "}"
   ]
  },
  {
   "cell_type": "code",
   "execution_count": 5,
   "metadata": {},
   "outputs": [],
   "source": [
    "const comunicacaoTipo = {\n",
    "  videoChamada: 'videoChamada',\n",
    "  ligacao: 'ligacao',\n",
    "  mensagem: 'mensagem'\n",
    "}"
   ]
  },
  {
   "cell_type": "code",
   "execution_count": 6,
   "metadata": {},
   "outputs": [],
   "source": [
    "const dispositivo = {\n",
    "  smartphone: 'smartphone',\n",
    "  computador: 'computador'\n",
    "}"
   ]
  },
  {
   "cell_type": "code",
   "execution_count": 7,
   "metadata": {},
   "outputs": [],
   "source": [
    "const acao = {\n",
    "  ler: 'ler',\n",
    "  refletir: 'refletir',\n",
    "  responder: 'responder',\n",
    "  observar: 'observar'\n",
    "}"
   ]
  },
  {
   "cell_type": "code",
   "execution_count": 8,
   "metadata": {},
   "outputs": [],
   "source": [
    "const contexto = {\n",
    "  local: local,\n",
    "  interacao: [interacao],\n",
    "  comunicacaoTipo: comunicacaoTipo,\n",
    "  dispositivo: dispositivo,\n",
    "  acao: acao\n",
    "}"
   ]
  },
  {
   "cell_type": "code",
   "execution_count": 9,
   "metadata": {},
   "outputs": [],
   "source": [
    "const tempo = {\n",
    "  janelaTempo: 30\n",
    "}"
   ]
  },
  {
   "cell_type": "code",
   "execution_count": 10,
   "metadata": {},
   "outputs": [],
   "source": [
    "const energia = {\n",
    "  baixa: 'B',\n",
    "  media: 'M',\n",
    "  alta: 'A'\n",
    "}"
   ]
  },
  {
   "cell_type": "code",
   "execution_count": 11,
   "metadata": {},
   "outputs": [],
   "source": [
    "const prioridade = {\n",
    "  baixa: 1,\n",
    "  media: 2,\n",
    "  alta: 3\n",
    "}"
   ]
  },
  {
   "cell_type": "code",
   "execution_count": 12,
   "metadata": {},
   "outputs": [],
   "source": [
    "const criterio = {\n",
    "  contextos: [contexto],\n",
    "  tempoDisponivel: tempo,\n",
    "  energiaDisponivel: energia,\n",
    "  prioridade: prioridade\n",
    "}"
   ]
  },
  {
   "cell_type": "code",
   "execution_count": 13,
   "metadata": {},
   "outputs": [],
   "source": [
    "const adiada = {\n",
    "  datada: data,\n",
    "  contextualizada: [criterio]\n",
    "}"
   ]
  },
  {
   "cell_type": "code",
   "execution_count": 14,
   "metadata": {},
   "outputs": [],
   "source": [
    "const delegada = {\n",
    "  aQuem: 'nome dessa pessoa',\n",
    "  validade: new Date().getDate(),\n",
    "  status: true|false\n",
    "}"
   ]
  },
  {
   "cell_type": "code",
   "execution_count": 15,
   "metadata": {},
   "outputs": [],
   "source": [
    "const tipo = {\n",
    "  heAcao: true|false,\n",
    "  simples: true|false,\n",
    "  projeto: true|false,\n",
    "  incubar: true|false,\n",
    "  lixeira: true|false,\n",
    "  arquivar: true|false,\n",
    "  doisMinutos: true|false,\n",
    "  delegar: delegada,\n",
    "  adiar: adiada,\n",
    "}"
   ]
  },
  {
   "cell_type": "code",
   "execution_count": 16,
   "metadata": {},
   "outputs": [],
   "source": [
    "const coisa = {\n",
    "  id: 'id string',\n",
    "  nome: 'coisa 1',\n",
    "  detalhe: 'uma primeira coisa',\n",
    "  arquivo: 'caminho url',\n",
    "  criado: criado,\n",
    "  editado: criado + 1,\n",
    "  tipo: tipo\n",
    "}"
   ]
  },
  {
   "cell_type": "code",
   "execution_count": 17,
   "metadata": {},
   "outputs": [
    {
     "name": "stdout",
     "output_type": "stream",
     "text": [
      "{\n",
      "  coisa: {\n",
      "    id: 'id string',\n",
      "    nome: 'coisa 1',\n",
      "    detalhe: 'uma primeira coisa',\n",
      "    arquivo: 'caminho url',\n",
      "    criado: 1656031606477,\n",
      "    editado: 1656031606478,\n",
      "    tipo: {\n",
      "      heAcao: 1,\n",
      "      simples: 1,\n",
      "      projeto: 1,\n",
      "      incubar: 1,\n",
      "      lixeira: 1,\n",
      "      arquivar: 1,\n",
      "      doisMinutos: 1,\n",
      "      delegar: [Object],\n",
      "      adiar: [Object]\n",
      "    }\n",
      "  }\n",
      "}\n"
     ]
    }
   ],
   "source": [
    "console.log({coisa})"
   ]
  }
 ],
 "metadata": {
  "kernelspec": {
   "display_name": "JavaScript (Node.js)",
   "language": "javascript",
   "name": "javascript"
  },
  "language_info": {
   "file_extension": ".js",
   "mimetype": "application/javascript",
   "name": "javascript",
   "version": "16.15.0"
  },
  "orig_nbformat": 4,
  "vscode": {
   "interpreter": {
    "hash": "aee8b7b246df8f9039afb4144a1f6fd8d2ca17a180786b69acc140d282b71a49"
   }
  }
 },
 "nbformat": 4,
 "nbformat_minor": 2
}
